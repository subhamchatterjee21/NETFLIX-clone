{
  "nbformat": 4,
  "nbformat_minor": 0,
  "metadata": {
    "colab": {
      "provenance": [],
      "include_colab_link": true
    },
    "kernelspec": {
      "name": "python3",
      "display_name": "Python 3"
    },
    "language_info": {
      "name": "python"
    }
  },
  "cells": [
    {
      "cell_type": "markdown",
      "metadata": {
        "id": "view-in-github",
        "colab_type": "text"
      },
      "source": [
        "<a href=\"https://colab.research.google.com/github/subhamchatterjee21/NETFLIX-clone/blob/main/Audio_similarity_search.ipynb\" target=\"_parent\"><img src=\"https://colab.research.google.com/assets/colab-badge.svg\" alt=\"Open In Colab\"/></a>"
      ]
    },
    {
      "cell_type": "code",
      "source": [
        "from google.colab import drive\n",
        "drive.mount('/content/drive')\n"
      ],
      "metadata": {
        "id": "tT5ieIiplt7x",
        "collapsed": true
      },
      "execution_count": null,
      "outputs": []
    },
    {
      "cell_type": "code",
      "source": [
        "from os.path import join\n",
        "import librosa\n",
        "from IPython.display import Audio"
      ],
      "metadata": {
        "id": "S1ef72F9kKVK"
      },
      "execution_count": 3,
      "outputs": []
    },
    {
      "cell_type": "code",
      "source": [
        "!pip install faiss-cpu"
      ],
      "metadata": {
        "id": "ko6XnRfxY_jU"
      },
      "execution_count": null,
      "outputs": []
    },
    {
      "cell_type": "code",
      "source": [
        "!pip install openl3\n"
      ],
      "metadata": {
        "id": "O72wnwl3nknn"
      },
      "execution_count": null,
      "outputs": []
    },
    {
      "cell_type": "code",
      "source": [
        "import librosa\n",
        "import openl3\n",
        "import faiss\n",
        "import librosa.display\n",
        "import numpy as np\n",
        "import matplotlib.pyplot as plt\n",
        "\n",
        "# Load the audio file\n",
        "file_path_bn= \"/content/drive/MyDrive/bn/cv-corpus-17.0-delta-2024-03-15/bn/clips/common_voice_bn_39620358.mp3\"\n",
        "audio, sr = librosa.core.load(file_path_bn, sr=44100, mono=True)\n",
        "\n",
        "file_path_as= \"/content/drive/MyDrive/Ass/cv-corpus-16.1-2023-12-06/as/clips/common_voice_as_20870771.mp3\"\n",
        "audio_as, sr = librosa.core.load(file_path_as, sr=44100, mono=True)\n",
        "\n"
      ],
      "metadata": {
        "id": "wKKg7vdMmuAG"
      },
      "execution_count": null,
      "outputs": []
    },
    {
      "cell_type": "code",
      "source": [
        "# Bengali\n",
        "plt.figure(figsize=(10, 4))\n",
        "librosa.display.waveshow(audio, sr=sr)\n",
        "plt.title('Waveform')\n",
        "plt.xlabel('Time (s)')\n",
        "plt.ylabel('Amplitude')\n",
        "plt.show()\n",
        "print(\"\")\n",
        "display(Audio(audio, rate=3000))"
      ],
      "metadata": {
        "id": "brCP9VCNzIy7"
      },
      "execution_count": null,
      "outputs": []
    },
    {
      "cell_type": "code",
      "source": [
        "\n",
        "# Assamese\n",
        "plt.figure(figsize=(10, 4))\n",
        "librosa.display.waveshow(audio_as, sr=sr)\n",
        "plt.title('Waveform')\n",
        "plt.xlabel('Time (s)')\n",
        "plt.ylabel('Amplitude')\n",
        "plt.show()\n",
        "print(\"\")\n",
        "display(Audio(audio_as, rate=sr))"
      ],
      "metadata": {
        "id": "XbTiqYdtrOvy"
      },
      "execution_count": null,
      "outputs": []
    },
    {
      "cell_type": "code",
      "source": [
        "open_emb_bn, ts_bn = openl3.get_audio_embedding(audio, sr, input_repr=\"mel128\", frontend='librosa')\n",
        "open_emb_as, ts_as = openl3.get_audio_embedding(audio_as, sr, input_repr=\"mel128\", frontend='librosa')"
      ],
      "metadata": {
        "id": "tN8Q5zZJnGHs"
      },
      "execution_count": null,
      "outputs": []
    },
    {
      "cell_type": "code",
      "source": [
        "open_emb_bn.shape, open_emb_bn.mean(axis=0).shape, open_emb_bn.mean(axis=0)[:20]"
      ],
      "metadata": {
        "id": "PcPddfJvoinp"
      },
      "execution_count": null,
      "outputs": []
    },
    {
      "cell_type": "code",
      "source": [
        "open_emb_as.shape, open_emb_as.mean(axis=0).shape, open_emb_as.mean(axis=0)[:20]"
      ],
      "metadata": {
        "id": "lyZ5P23rp2hG"
      },
      "execution_count": null,
      "outputs": []
    },
    {
      "cell_type": "code",
      "source": [
        "# Normalize embeddings\n",
        "open_emb_bn /= np.linalg.norm(open_emb_bn, axis=1, keepdims=True)\n",
        "open_emb_as /= np.linalg.norm(open_emb_as, axis=1, keepdims=True)\n"
      ],
      "metadata": {
        "id": "--3kEdwlp26U"
      },
      "execution_count": null,
      "outputs": []
    },
    {
      "cell_type": "code",
      "source": [
        "# Build FAISS index for Assamese embeddings\n",
        "index_as = faiss.IndexFlatIP(open_emb_as.shape[1])\n",
        "index_as.add(open_emb_as)"
      ],
      "metadata": {
        "id": "iseZKQ3XZzvS"
      },
      "execution_count": null,
      "outputs": []
    },
    {
      "cell_type": "code",
      "source": [
        "# Define Bengali embeddings as query\n",
        "query_embedding_bn = open_emb_bn.mean(axis=0)  # Using mean embedding of Bengali audio as query\n",
        "query_embedding_bn /= np.linalg.norm(query_embedding_bn)  # Normalize query embedding"
      ],
      "metadata": {
        "id": "WP6-gl7DZ0gM"
      },
      "execution_count": null,
      "outputs": []
    },
    {
      "cell_type": "code",
      "source": [
        "# Perform search using Bengali query on Assamese embeddings index\n",
        "k = 2  # Number of nearest neighbors to retrieve\n",
        "distances, indices = index_as.search(np.expand_dims(query_embedding_bn, axis=0), k)"
      ],
      "metadata": {
        "id": "-aUaJ2zuZ92q"
      },
      "execution_count": null,
      "outputs": []
    },
    {
      "cell_type": "code",
      "source": [
        "from IPython.display import Audio\n",
        "\n",
        "# Print results\n",
        "print(\"Top {} most similar Assamese embeddings to Bengali query:\".format(k))\n",
        "for i, (distance, index) in enumerate(zip(distances[0], indices[0])):\n",
        "    print(\"Rank {}: Distance = {:.4f}, Index = {}\".format(i+1, distance, index))\n",
        "    # Load and play similar Assamese audio corresponding to the top-ranked embeddings\n",
        "    similar_audio_as, _ = librosa.core.load(file_path_as, sr=sr, mono=True)\n",
        "    print(\"Playing similar Assamese audio for rank {}...\".format(i+1))\n",
        "    display(Audio(similar_audio_as, rate=sr))"
      ],
      "metadata": {
        "id": "58SRhQ_CaAgp"
      },
      "execution_count": null,
      "outputs": []
    }
  ]
}